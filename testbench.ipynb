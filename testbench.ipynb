{
 "cells": [
  {
   "cell_type": "code",
   "execution_count": null,
   "metadata": {},
   "outputs": [],
   "source": [
    "import chessRiddle\n",
    "\n",
    "N = 64          # number of cells in the board. must be power of 2.\n",
    "\n",
    "# Initialize a random board and key index. This code demonstrates how to use the\n",
    "# class in chessRiddle.py\n",
    "test = chessRiddle.board(N)\n",
    "print(\"randomized board is: \")\n",
    "print(test.boardState)\n",
    "print(\"randomized key index is: \" + str(test.keyIndex))\n",
    "print(\"before modifying the board, algorithm interprets the board state to indicate: \")\n",
    "test.interpretBoardState()\n",
    "\n",
    "print(\"picking a coin to flip...\")\n",
    "test.pickIndexToFlip()\n",
    "\n",
    "print(\"after modification, algorithm interprets the board state to indicate: \")\n",
    "test.interpretBoardState()\n",
    "\n"
   ]
  },
  {
   "cell_type": "code",
   "execution_count": null,
   "metadata": {},
   "outputs": [],
   "source": [
    "# run a whole bunch of tests\n",
    "testsToRun = 1000\n",
    "\n",
    "for i in range(testsToRun):\n",
    "    boardUT = chessRiddle.board(N)\n",
    "    boardUT.pickIndexToFlip(verbose=False)\n",
    "    boardUT.interpretBoardState(verbose=False)\n",
    "    if boardUT.keyIndexGuess != boardUT.keyIndex:\n",
    "        print(\"AHHHHH IT FAILS HELP!\")\n",
    "        import pdb; pdb.set_trace()\n",
    "    else:\n",
    "        pass\n",
    "\n",
    "print(\"all tests completed, correctly indicated all boards.\")"
   ]
  }
 ],
 "metadata": {
  "interpreter": {
   "hash": "1e0edef247045f2f5f35ac9d6435770b0c68a1ddd7eb34b4959830e587ac51e2"
  },
  "kernelspec": {
   "display_name": "Python 3.8.8 ('base')",
   "language": "python",
   "name": "python3"
  },
  "language_info": {
   "codemirror_mode": {
    "name": "ipython",
    "version": 3
   },
   "file_extension": ".py",
   "mimetype": "text/x-python",
   "name": "python",
   "nbconvert_exporter": "python",
   "pygments_lexer": "ipython3",
   "version": "3.8.8"
  },
  "metadata": {
   "interpreter": {
    "hash": "17e3b2060f7deeda37f5b24b81d7f0d8f74d54d007ef856b434c0f974a26d527"
   }
  },
  "orig_nbformat": 2
 },
 "nbformat": 4,
 "nbformat_minor": 2
}
